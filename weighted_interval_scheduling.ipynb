{
 "cells": [
  {
   "cell_type": "markdown",
   "id": "4dce2e62-0ea5-4309-9fd5-b5547e4d1e73",
   "metadata": {},
   "source": [
    "## Implementation"
   ]
  },
  {
   "cell_type": "markdown",
   "id": "34bf4c9f-2b31-4bd7-ac3b-7808ac659e5e",
   "metadata": {},
   "source": [
    "### Problem"
   ]
  },
  {
   "cell_type": "code",
   "execution_count": 1,
   "id": "528af959-1b2c-43c1-a0af-2ecd852e4d2a",
   "metadata": {},
   "outputs": [
    {
     "data": {
      "text/plain": [
       "(array([ 5, 19, 16, 33, 35, 39, 40, 34, 74, 79]),\n",
       " array([15, 23, 31, 42, 46, 50, 51, 53, 86, 98]),\n",
       " array([7, 8, 9, 7, 3, 1, 5, 8, 4, 9]))"
      ]
     },
     "execution_count": 1,
     "metadata": {},
     "output_type": "execute_result"
    }
   ],
   "source": [
    "import numpy as np\n",
    "\n",
    "MAX_JOB_DURATION = 20\n",
    "MAX_JOB_FINISH = 100\n",
    "MAX_WEIGHT = 10\n",
    "\n",
    "def new_problem(n):    \n",
    "    s = np.random.randint(0, MAX_JOB_FINISH - MAX_JOB_DURATION, n)\n",
    "    d = np.random.randint(1, MAX_JOB_DURATION, n)\n",
    "    f = s + d\n",
    "    i = np.argsort(f)\n",
    "    \n",
    "    return s[i], f[i], np.random.randint(1, MAX_WEIGHT, n)\n",
    "\n",
    "problem = new_problem(10)\n",
    "problem"
   ]
  },
  {
   "cell_type": "markdown",
   "id": "afe6b007-34bd-4ac5-ac20-9338b579641d",
   "metadata": {
    "tags": []
   },
   "source": [
    "### Visulization\n",
    "\n",
    "We use a rectangle to represent each job. The left edge is the start time and the right edge is the finish time. The height is in proportion to the weight of each job, which is also labeled on the right of each job."
   ]
  },
  {
   "cell_type": "code",
   "execution_count": 2,
   "id": "e40fde2a-c272-43e7-9699-867394dc7549",
   "metadata": {},
   "outputs": [
    {
     "data": {
      "image/png": "[encoded data removed]",
      "text/plain": [
       "<Figure size 640x480 with 1 Axes>"
      ]
     },
     "metadata": {},
     "output_type": "display_data"
    }
   ],
   "source": [
    "import matplotlib.pyplot as plt\n",
    "\n",
    "def visualize(s, f, w):\n",
    "    d = f - s\n",
    "    i = np.arange(s.size) + 1\n",
    "    hbars = plt.barh(i, d, height=w / w.max(), left=s)\n",
    "    plt.bar_label(hbars, labels=w, padding=8)\n",
    "    plt.title(\"Weighted Scheduling Problem\")\n",
    "    plt.xlabel(\"Time\")\n",
    "    plt.ylabel(\"Job\")\n",
    "    plt.xlim(0)\n",
    "    plt.yticks(i)\n",
    "    plt.gca().invert_yaxis()\n",
    "\n",
    "visualize(*problem)"
   ]
  },
  {
   "cell_type": "markdown",
   "id": "e29504d3-8b0c-43d3-a64c-3688431027d6",
   "metadata": {},
   "source": [
    "### Dynamic Programming Algorithm"
   ]
  },
  {
   "cell_type": "code",
   "execution_count": 3,
   "id": "3dc1812b-dc10-4704-abf0-b6549cc0ff65",
   "metadata": {},
   "outputs": [
    {
     "name": "stdout",
     "output_type": "stream",
     "text": [
      "33\n"
     ]
    }
   ],
   "source": [
    "def dynamic_programming(s, f, w):\n",
    "    l = np.argmax(s.reshape(-1, 1) < f, axis=1) - 1\n",
    "    W = np.zeros_like(s)\n",
    "    \n",
    "    def compute_W(k):\n",
    "        if k == -1:\n",
    "            return 0\n",
    "        if W[k] == 0:\n",
    "            W[k] = max(compute_W(l[k]) + w[k], compute_W(k - 1))\n",
    "        return W[k]\n",
    "    \n",
    "    return compute_W(s.size - 1)\n",
    "\n",
    "print(dynamic_programming(*problem))"
   ]
  }
 ],
 "metadata": {
  "kernelspec": {
   "display_name": "Python 3 (ipykernel)",
   "language": "python",
   "name": "python3"
  },
  "language_info": {
   "codemirror_mode": {
    "name": "ipython",
    "version": 3
   },
   "file_extension": ".py",
   "mimetype": "text/x-python",
   "name": "python",
   "nbconvert_exporter": "python",
   "pygments_lexer": "ipython3",
   "version": "3.10.6"
  }
 },
 "nbformat": 4,
 "nbformat_minor": 5
}
