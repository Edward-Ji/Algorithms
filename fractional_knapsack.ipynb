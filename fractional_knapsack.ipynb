{
 "cells": [
  {
   "cell_type": "markdown",
   "metadata": {},
   "source": [
    "# The Fractional Knapsack Problem\n",
    "\n",
    "## Theory\n",
    "\n",
    "### Problem\n",
    "\n",
    "A set $S=\\{1,2,\\dots,n\\}$ of $n$ items, with each item $i$ having a positive benefit $b_i>0$ and a positive weight $w_i>0$. The goal is to choose fractions of items ($x_i$ each) with a maximum total benefit of weight at most $W$. Formally, we wish to maximize\n",
    "\n",
    "$$\n",
    "\\sum_ib_ix_i\n",
    "$$\n",
    "\n",
    "under the constraint that\n",
    "\n",
    "$$\n",
    "\\begin{align*}\n",
    "\\sum_iw_ix_i&\\le W\\\\\n",
    "x_i&\\in[0,1]\n",
    "\\end{align*}\n",
    "$$\n",
    "\n",
    "This is a variant of the Knapsack Problem, which tightens the second constraint to $x_i\\in\\{0,1\\}$.\n",
    "\n",
    "### Algorithm\n",
    "\n",
    "Initially, no item is chosen.\n",
    "\n",
    "In each step, identify the **best** item available and add as much as possible to the knapsack.\n",
    "\n",
    "But what is the “best” item? We need to make a **greedy choice**, which can interpret the best item as the one with the highest benefit, the smallest weight, or the greatest benefit over weight ratio, etc.\n",
    "\n",
    "### Optimal Solution\n",
    "\n",
    "The greedy strategy of picking items with the highest benefit-to-weight ratio computes an optimal solution.\n",
    "\n",
    "We use an *exchange argument* to show that any suboptimal solution can become optimal by making a series of exchanges. Each exchange replaces one part of the suboptimal solution with another that improves the overall objective function value.\n",
    "\n",
    "- ************************Proof************************\n",
    "    \n",
    "    We assume for simplicity that all ratios are different. Formally, $\\forall i\\;j,{b_i\\over w_i}\\neq{b_j\\over w_j}$.\n",
    "    \n",
    "    Consider some feasible optimal solution $x$, different from the greedy one.\n",
    "    \n",
    "    Let the total benefit of such $x$ be $B=\\sum_kb_kx_k$.\n",
    "    \n",
    "    There must be items $i$ and $j$ such that $x_i<1$, $x_j>0$ and\n",
    "    \n",
    "    $$\n",
    "    \\begin{equation}\n",
    "    {b_i\\over w_i}>{b_j\\over w_j}.\n",
    "    \\end{equation}\n",
    "    $$\n",
    "    \n",
    "    If we replace $\\delta_j$ of $j$ with $\\delta_i$ of $i$ and get a new solution $x'$, then the total benefit of $x'$ is\n",
    "    \n",
    "    $$\n",
    "    B'=B+b_i\\delta_i-b_j\\delta_j.\n",
    "    $$\n",
    "    \n",
    "    The total weight is changed by $w_i\\delta_i-w_j\\delta_j$. For the solution $x'$ to be feasible, we don’t change the weight taken:\n",
    "    \n",
    "    $$\n",
    "    w_i\\delta_i-w_j\\delta_j=0\\implies\\delta_i={w_j\\over w_i}\\delta_j.\n",
    "    $$\n",
    "    \n",
    "    Then,\n",
    "    \n",
    "    $$\n",
    "    \\begin{align*}\n",
    "    B'&=B+b_i\\left({w_j\\over w_i}\\delta_j\\right)-b_j\\delta_j\\\\\n",
    "    &=B+\\left(b_i{w_j\\over w_i}-b_j\\right)\\delta_j\\\\\n",
    "    &=B+\\left({b_i\\over w_i}-{b_j\\over w_j}\\right)w_j\\delta_j\\\\\n",
    "    &>B&\\text{by (1)}\n",
    "    \\end{align*}\n",
    "    $$\n",
    "    \n",
    "    Hence, we found a better solution $x'$ which contradicts $x$ being optimal. Therefore the feasible optimal solution $x$ must be the result of the greedy algorithm.\n",
    "    \n",
    "\n",
    "### Complexity\n",
    "\n",
    "The algorithm requires $\\mathcal O(n\\log n)$ time to sort the items according to $b_i\\!/w_i$, and then $\\mathcal O(n)$ time to process them in a loop."
   ]
  },
  {
   "cell_type": "markdown",
   "metadata": {},
   "source": [
    "## Implementation\n",
    "\n",
    "We import `numpy` for fast random number generators and linear algebra routines."
   ]
  },
  {
   "cell_type": "code",
   "execution_count": 1,
   "metadata": {},
   "outputs": [],
   "source": [
    "import numpy as np"
   ]
  },
  {
   "cell_type": "markdown",
   "metadata": {},
   "source": [
    "### Problem\n",
    "\n",
    "We first write a function that can produce a random problem $(b, w, W)$ of size $n = \\lvert b\\rvert = \\lvert w\\rvert$."
   ]
  },
  {
   "cell_type": "code",
   "execution_count": 2,
   "metadata": {},
   "outputs": [
    {
     "data": {
      "text/plain": [
       "(array([0.67530033, 0.64431228, 0.99931666, 0.44425137, 0.91922883,\n",
       "        0.21704675, 0.73458859, 0.7375881 , 0.66674577, 0.36566844]),\n",
       " array([0.89009102, 0.90913797, 0.95324127, 0.4942858 , 0.02610788,\n",
       "        0.89070875, 0.42130594, 0.87404895, 0.68584734, 0.92474794]),\n",
       " 5.771066473759426)"
      ]
     },
     "execution_count": 2,
     "metadata": {},
     "output_type": "execute_result"
    }
   ],
   "source": [
    "def problem(n):\n",
    "    b = np.random.rand(n)\n",
    "    w = np.random.rand(n)\n",
    "    W = np.random.rand() * w.sum()\n",
    "    \n",
    "    return b, w, W\n",
    "\n",
    "problem(10)"
   ]
  },
  {
   "cell_type": "markdown",
   "metadata": {},
   "source": [
    "### Using Python Builtins"
   ]
  },
  {
   "cell_type": "code",
   "execution_count": 3,
   "metadata": {},
   "outputs": [
    {
     "data": {
      "text/plain": [
       "[0.44948476841551677, 1.0, 0.0, 1.0, 1.0, 0.0, 0.0, 0.0, 1.0, 0.0]"
      ]
     },
     "execution_count": 3,
     "metadata": {},
     "output_type": "execute_result"
    }
   ],
   "source": [
    "def greedy1(b, w, W):\n",
    "    x = [0] * len(b)\n",
    "    weight_sum = 0\n",
    "    for i in sorted(range(len(b)), key=lambda i: b[i] / w[i]):\n",
    "        x[i] = min(1.0, (W - weight_sum) / w[i])\n",
    "        weight_sum += x[i] * w[i]\n",
    "    \n",
    "    return x\n",
    "\n",
    "greedy1(*problem(10))"
   ]
  },
  {
   "cell_type": "markdown",
   "metadata": {},
   "source": [
    "### Using `numpy`"
   ]
  },
  {
   "cell_type": "code",
   "execution_count": 4,
   "metadata": {},
   "outputs": [
    {
     "data": {
      "text/plain": [
       "array([0.95248089, 0.        , 0.        , 0.        , 0.        ,\n",
       "       0.        , 0.        , 0.        , 0.        , 0.        ])"
      ]
     },
     "execution_count": 4,
     "metadata": {},
     "output_type": "execute_result"
    }
   ],
   "source": [
    "def greedy2(b, w, W):\n",
    "    i = np.argsort(b / w)\n",
    "    x = np.empty_like(i, dtype=float)\n",
    "    x.put(i, np.clip((W - np.r_[0, np.cumsum(w[i])[:-1]]) / w[i], 0, 1))\n",
    "    \n",
    "    return x\n",
    "\n",
    "greedy2(*problem(10))"
   ]
  },
  {
   "cell_type": "markdown",
   "metadata": {},
   "source": [
    "### Time Analysis"
   ]
  },
  {
   "cell_type": "code",
   "execution_count": 5,
   "metadata": {},
   "outputs": [],
   "source": [
    "from time import perf_counter\n",
    "\n",
    "def running_time(algorithm, n):\n",
    "    p = problem(n)\n",
    "    t0 = perf_counter()\n",
    "    algorithm(*p)\n",
    "    t1 = perf_counter()\n",
    "    \n",
    "    return t1 - t0\n",
    "\n",
    "n = np.linspace(1, 1_000_000, 50, dtype=int)\n",
    "t1 = np.vectorize(lambda size: running_time(greedy1, size))(n)\n",
    "t2 = np.vectorize(lambda size: running_time(greedy2, size))(n)"
   ]
  },
  {
   "cell_type": "code",
   "execution_count": 6,
   "metadata": {},
   "outputs": [
    {
     "data": {
      "image/png": "[encoded data removed]",
      "text/plain": [
       "<Figure size 640x480 with 1 Axes>"
      ]
     },
     "metadata": {},
     "output_type": "display_data"
    }
   ],
   "source": [
    "import matplotlib.pyplot as plt\n",
    "\n",
    "plt.plot(n, t1, label=\"Builtins\")\n",
    "plt.plot(n, t2, label=\"Numpy\")\n",
    "plt.title(\"Running Time vs Problem Size\")\n",
    "plt.xlabel(\"Problem size n\")\n",
    "plt.ylabel(\"Running time T\")\n",
    "plt.legend()\n",
    "plt.show()"
   ]
  }
 ],
 "metadata": {
  "kernelspec": {
   "display_name": "Python 3 (ipykernel)",
   "language": "python",
   "name": "python3"
  },
  "language_info": {
   "codemirror_mode": {
    "name": "ipython",
    "version": 3
   },
   "file_extension": ".py",
   "mimetype": "text/x-python",
   "name": "python",
   "nbconvert_exporter": "python",
   "pygments_lexer": "ipython3",
   "version": "3.10.6"
  }
 },
 "nbformat": 4,
 "nbformat_minor": 4
}
